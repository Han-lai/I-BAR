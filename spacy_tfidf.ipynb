{
 "cells": [
  {
   "cell_type": "code",
   "execution_count": 1,
   "metadata": {},
   "outputs": [],
   "source": [
    "import pandas as pd\n",
    "import csv\n",
    "import re\n",
    "from sklearn.feature_extraction.text import TfidfTransformer, TfidfVectorizer, CountVectorizer\n",
    "#spacy------------------------------\n",
    "import spacy\n",
    "# print('spaCy Version: %s' % (spacy.__version__))  # spaCy Version: 2.3.2\n",
    "import en_core_web_sm\n",
    "import en_core_web_lg\n",
    "from spacy.lang.en import English\n",
    "from spacy.tokens import Doc\n",
    "from spacy.symbols import PUNCT, NUM, AUX, X, CONJ, ADJ, VERB, PART, SPACE, CCONJ,INTJ,NOUN\n",
    "from spacy.lang.en.stop_words import STOP_WORDS"
   ]
  },
  {
   "cell_type": "code",
   "execution_count": 2,
   "metadata": {},
   "outputs": [],
   "source": [
    "nlp = spacy.load('en_core_web_lg')\n",
    "spacy_stopwords = spacy.lang.en.stop_words.STOP_WORDS\n",
    "spacy_stopwords = spacy_stopwords.union({\n",
    "    'easy', 'long', 'nice', 'tasty','white','dry','little','simple',\n",
    "    'great', 'good','username','text','oz','sure'})"
   ]
  },
  {
   "cell_type": "code",
   "execution_count": 3,
   "metadata": {
    "scrolled": true
   },
   "outputs": [
    {
     "name": "stdout",
     "output_type": "stream",
     "text": [
      "First ten stop words: ['himself', 'my', 'keep', 'mostly', 'serious', 'latterly', 'am', 'about', 'itself', 'ca']\n",
      "340\n"
     ]
    }
   ],
   "source": [
    "print('First ten stop words: %s' % list(spacy_stopwords)[:10])\n",
    "print(len(spacy_stopwords))"
   ]
  },
  {
   "cell_type": "code",
   "execution_count": 4,
   "metadata": {},
   "outputs": [
    {
     "name": "stdout",
     "output_type": "stream",
     "text": [
      "[\"Bobby Burns (Difford's own)\", 'Garibaldi', 'The Broady', 'Hesitation ', 'Japanese Slipper', 'Manhattan (Perfect)', 'Petanque cocktail', \"Archibald's Last Memory Cocktail\", 'Hot Buttered Rum Cocktail', \"Auntie's Hot Xmas Punch\"]\n"
     ]
    }
   ],
   "source": [
    "df = pd.read_csv(r'.\\cocktail_all_08924_class_combine.csv',encoding='utf-8-sig')  #cocktail_all_combine\n",
    "df['mix'] = '['+ df['ins'].map(str)+']' +df['comment'].map(str)+'\\r''\\r'+ df['Vodka'].map(str)+'\\r'+ df['Rum'].map(str)+'\\r'+ df['Gin'].map(str)+'\\r'+ df['Tequila'].map(str)+'\\r'+'\\r'+''+ df['Whiskey'].map(str)+'\\r'+'\\r'+ df['Brandy'].map(str)+'\\r'+ df['liqueur'].map(str)+']'\n",
    "# print(df['mix'])\n",
    "# df['mix'] = '['+ df['ins'].map(str)+']' +df['comment'].map(str)+'\\r'+'\\r'+df['favor'].map(str)+'\\r''\\r'+ df['Vodka'].map(str)+'\\r'+ df['Rum'].map(str)+'\\r'+ df['Gin'].map(str)+'\\r'+ df['Tequila'].map(str)+'\\r'+'\\r'+''+ df['Whiskey'].map(str)+'\\r'+'\\r'+ df['Brandy'].map(str)+'\\r'+ df['liqueur'].map(str)+']'\n",
    "#\n",
    "dff = df[df['mix'] != '[nan]nannannannannannannannan']\n",
    "data = list(dff['mix'])\n",
    "# print(data)\n",
    "data_i = [i.lower().replace('nan','').strip().strip('\\r').strip('\\\\').strip('\\t') for i in data if len(i) != 0]\n",
    "# print(data_i)\n",
    "remove_chars = '[0-9’!\"#$%&()*+-./:;<=>?@，。?★、…【】\\'\\r《》？“”‘’！\\\\\\\\[\\\\]^_`{|}~]+' #移除數字及特殊符號\n",
    "remove = [re.sub(remove_chars, '' , i) for i in data_i]\n",
    "text = [re.compile('').sub('', i)for i in remove]\n",
    "# # text = [re.compile('').sub('', i)for i in remove if len(i) != 0] #移除空格\n",
    "# print(text)\n",
    "#\n",
    "# # print(index)\n",
    "name = list(dff['name'])\n",
    "print(name[:10])"
   ]
  },
  {
   "cell_type": "code",
   "execution_count": 5,
   "metadata": {},
   "outputs": [
    {
     "name": "stdout",
     "output_type": "stream",
     "text": [
      "token.text: ï¿½ï¿½menacingï¿½ï¿½ token.lemma_: ï¿½ï¿½menacingï¿½ï¿½ token.pos_: INTJ token.tag_: UH token.is_stop: False\n",
      "token.text: yeah token.lemma_: yeah token.pos_: INTJ token.tag_: UH token.is_stop: False\n",
      "token.text: unknownï¿½ï¿½ token.lemma_: unknownï¿½ï¿½ token.pos_: INTJ token.tag_: UH token.is_stop: False\n",
      "token.text: lilï¿½ï¿½ token.lemma_: lilï¿½ï¿½ token.pos_: INTJ token.tag_: UH token.is_stop: False\n",
      "token.text: please token.lemma_: please token.pos_: INTJ token.tag_: UH token.is_stop: True\n",
      "token.text: um token.lemma_: um token.pos_: INTJ token.tag_: UH token.is_stop: False\n",
      "token.text: welcome token.lemma_: welcome token.pos_: INTJ token.tag_: UH token.is_stop: False\n",
      "token.text: ok token.lemma_: ok token.pos_: INTJ token.tag_: UH token.is_stop: False\n",
      "token.text: oh token.lemma_: oh token.pos_: INTJ token.tag_: UH token.is_stop: False\n",
      "token.text: wow token.lemma_: wow token.pos_: INTJ token.tag_: UH token.is_stop: False\n",
      "token.text: please token.lemma_: please token.pos_: INTJ token.tag_: UH token.is_stop: True\n",
      "token.text: yes token.lemma_: yes token.pos_: INTJ token.tag_: UH token.is_stop: False\n",
      "token.text: like token.lemma_: like token.pos_: INTJ token.tag_: UH token.is_stop: False\n",
      "token.text: like token.lemma_: like token.pos_: INTJ token.tag_: UH token.is_stop: False\n",
      "token.text: like token.lemma_: like token.pos_: INTJ token.tag_: UH token.is_stop: False\n",
      "token.text: like token.lemma_: like token.pos_: INTJ token.tag_: UH token.is_stop: False\n"
     ]
    }
   ],
   "source": [
    "\n",
    "##-----------------------------查看資訊-------------------------\n",
    "\n",
    "for token in nlp(str(text[1:100])):\n",
    "    if  token.pos_ == 'INTJ' or  token.pos_ == 'INTJ':\n",
    "        print('token.text:',token.text,'token.lemma_:',token.lemma_,'token.pos_:',token.pos_,'token.tag_:',token.tag_,'token.is_stop:',token.is_stop)\n",
    "\n",
    "#     print('token.text:',token.text,'token.lemma_:',token.lemma_,'token.pos_:',token.pos_,'token.tag_:',token.tag_,\n",
    "#     'token.dep_:',token.dep_,'token.shape_:', token.shape_,'token.is_alpha:',token.is_alpha,'token.is_stop:',token.is_stop)\n",
    "#     print()\n"
   ]
  },
  {
   "cell_type": "code",
   "execution_count": 6,
   "metadata": {},
   "outputs": [
    {
     "name": "stdout",
     "output_type": "stream",
     "text": [
      "corpus [\"['lemon', 'zest', 'twist', 'discard', ' ', 'slice', 'shortbreadwhat', 'terrific', 'cocktail', 'not', 'try', 'shortbread', 'great', 'lemon', 'twistwhiskey']\", \"['orange', 'wedge', 'rest', 'rimusing', 'milk', 'frother', 'aerate', 'orange', 'juice', 'purchase', 'similar', 'breville', 'juicer', 'voila', 'danteperfect', 'garibaldi', 'home', 'juice', 'piller', 'elbow', 'not', 'throw', 'juice', 'achieve', 'fluffinessliqueur']\", \"['agave', 'influence', 'riff', 'blood', ' ', 'sand', 'cherry', 'orange', 'lace', 'tequila', 'smoky', 'hint', 'mezcali', 'know', 'exactly', 'mr', 'broad', 'mean', 'think', 'come', 'mind', 'ï¿½ï¿½menacingï¿½ï¿½', 'think', 'itï¿½ï¿½s', 'mezcal', 'underlie', 'delicious', 'menacingliqueur']\", \"['lightly', 'spice', 'slightly', 'sweet', 'sidenice', 'sweet', 'sour', 'balance', 'sugar', 'syrupwhiskeyliqueur']\", \"['sweet', 'melon', 'orange', 'liqueur', 'lemon', 'bite', 'sweetie', 'lurid', 'green', 'colour', 'suggestinterested', 'tequila', 'like', ' ', 'will', 'like', 'japanese', 'slipper', 'sbagliato', 'thank', 'bring', 'attention', 'note', 'need', 'replace', 'photo', 'salt', 'rim', 'previous', 'version', 'margaritalike', 'variationliqueur']\"]\n"
     ]
    }
   ],
   "source": [
    "# # #-----------------------用正則及CountVectorizer做詞性還原及分詞-及停用詞-------------------------------------------------\n",
    "lemma_data = []\n",
    "for idx, item in enumerate(text):\n",
    "    doc = nlp(item)  # --> set the document vocab\n",
    "    doc_spacy = Doc(doc.vocab, words=[t.text for t in doc]) #vocab：詞彙表\n",
    "    token_lemma_data = [token.lemma_ for token in doc_spacy if not token.is_stop]\n",
    "\n",
    "    # print(token_lemma_data)\n",
    "    lemma_data.append(token_lemma_data)\n",
    "corpus = [str(item).strip().replace('\\\\','').replace('\\t','') for item in lemma_data if len(str(item)) > 1]\n",
    "print('corpus',corpus[:5])"
   ]
  },
  {
   "cell_type": "code",
   "execution_count": 7,
   "metadata": {},
   "outputs": [
    {
     "name": "stdout",
     "output_type": "stream",
     "text": [
      "pos [\"['shortbreadwhat', 'terrific', 'great']\", \"['orange', 'same', 'similar']\", \"['smoky', 'first', 'delicious']\", \"['sweet', 'sweet', 'sour']\", \"['lurid', 'green', 'japanese', 'previous']\", \"['favorite']\", \"['french', 'main', 'spanish', 'italian', 'basque', 'tired']\", \"['spirituous', 'least', 'last', 'proper', 'herbal', 'honest', 'spirituous', 'more', 'delicate', 'herbal', 'delicious', 'real']\", '[]', \"['rich', 'hot', 'nice', 'cold', 'rainy', 'salutary', 'sure']\"]\n"
     ]
    }
   ],
   "source": [
    "# # # -----------------詞性還原 及 詞性標註(只留形容詞、感嘆詞、名詞)---------------------------------------\n",
    "# # #\n",
    "pos_data =[]\n",
    "for n, item in enumerate(text):\n",
    "    doc = nlp(item)\n",
    "    # pos = [token.pos_ for token in doc]\n",
    "    # doc_spacy = Doc(doc.vocab, words=[t.text for t in doc])\n",
    "    no_VERB = [token.lemma_ for token in doc if token.pos_ == 'ADJ' ] #or token.pos_ == 'NOUN'or token.pos_ == 'PROPN'\n",
    "    pos_data.append(no_VERB)\n",
    "# print('pos_data',pos_data)\n",
    "pos = [str(item).strip().replace('\\\\','').replace('\\t','') for item in pos_data if len(str(item)) > 1]\n",
    "print('pos',pos[:10])"
   ]
  },
  {
   "cell_type": "code",
   "execution_count": 8,
   "metadata": {},
   "outputs": [
    {
     "name": "stdout",
     "output_type": "stream",
     "text": [
      "['balanced', 'bitter', 'bittersweet', 'classic', 'delicious', 'different', 'fresh', 'fruity', 'herbal', 'interesting', 'light', 'old', 'orange', 'original', 'refreshing', 'rich', 'sour', 'strong', 'subtle', 'sweet']\n"
     ]
    },
    {
     "name": "stderr",
     "output_type": "stream",
     "text": [
      "c:\\users\\big data\\anaconda3\\envs\\heart\\lib\\site-packages\\sklearn\\feature_extraction\\text.py:386: UserWarning: Your stop_words may be inconsistent with your preprocessing. Tokenizing the stop words generated tokens ['ll', 've'] not in stop_words.\n",
      "  'stop_words.' % sorted(inconsistent))\n"
     ]
    }
   ],
   "source": [
    "# # # ---------------------------------------------------------------\n",
    "# # # # # 計算單字次數：\n",
    "vect = CountVectorizer(token_pattern='(?u)\\\\b\\\\w\\\\w+\\\\b',stop_words=spacy_stopwords,min_df=0.008)#,max_df=0.99,min_df=0.01)\n",
    "x_train = vect.fit_transform(pos)\n",
    "feature = vect.get_feature_names()\n",
    "print(feature)"
   ]
  },
  {
   "cell_type": "code",
   "execution_count": 9,
   "metadata": {
    "scrolled": true
   },
   "outputs": [
    {
     "name": "stdout",
     "output_type": "stream",
     "text": [
      "dataframe:                                balanced  bitter  bittersweet  classic  \\\n",
      "Bobby Burns (Difford's own)           0       0            0        0   \n",
      "Garibaldi                             0       0            0        0   \n",
      "The Broady                            0       0            0        0   \n",
      "Hesitation                            0       0            0        0   \n",
      "Japanese Slipper                      0       0            0        0   \n",
      "...                                 ...     ...          ...      ...   \n",
      "Yesterday, Today and Amaro            0       0            0        0   \n",
      "Youngstown Tube                       0       0            0        0   \n",
      "You Have A Drink Named Steve?         0       0            0        0   \n",
      "Your Second Cousin                    0       0            0        0   \n",
      "You Only Live Twice                   0       1            0        0   \n",
      "\n",
      "                               delicious  different  fresh  fruity  herbal  \\\n",
      "Bobby Burns (Difford's own)            0          0      0       0       0   \n",
      "Garibaldi                              0          0      0       0       0   \n",
      "The Broady                             1          0      0       0       0   \n",
      "Hesitation                             0          0      0       0       0   \n",
      "Japanese Slipper                       0          0      0       0       0   \n",
      "...                                  ...        ...    ...     ...     ...   \n",
      "Yesterday, Today and Amaro             0          0      0       0       0   \n",
      "Youngstown Tube                        0          0      0       0       0   \n",
      "You Have A Drink Named Steve?          0          0      0       0       0   \n",
      "Your Second Cousin                     0          0      0       0       0   \n",
      "You Only Live Twice                    0          0      0       0       0   \n",
      "\n",
      "                               interesting  light  old  orange  original  \\\n",
      "Bobby Burns (Difford's own)              0      0    0       0         0   \n",
      "Garibaldi                                0      0    0       1         0   \n",
      "The Broady                               0      0    0       0         0   \n",
      "Hesitation                               0      0    0       0         0   \n",
      "Japanese Slipper                         0      0    0       0         0   \n",
      "...                                    ...    ...  ...     ...       ...   \n",
      "Yesterday, Today and Amaro               0      0    0       0         1   \n",
      "Youngstown Tube                          0      0    0       0         0   \n",
      "You Have A Drink Named Steve?            0      0    0       0         0   \n",
      "Your Second Cousin                       0      0    0       0         0   \n",
      "You Only Live Twice                      0      0    1       0         0   \n",
      "\n",
      "                               refreshing  rich  sour  strong  subtle  sweet  \n",
      "Bobby Burns (Difford's own)             0     0     0       0       0      0  \n",
      "Garibaldi                               0     0     0       0       0      0  \n",
      "The Broady                              0     0     0       0       0      0  \n",
      "Hesitation                              0     0     1       0       0      2  \n",
      "Japanese Slipper                        0     0     0       0       0      0  \n",
      "...                                   ...   ...   ...     ...     ...    ...  \n",
      "Yesterday, Today and Amaro              0     0     0       0       0      0  \n",
      "Youngstown Tube                         0     0     0       0       0      0  \n",
      "You Have A Drink Named Steve?           0     0     0       0       0      0  \n",
      "Your Second Cousin                      0     0     0       0       0      0  \n",
      "You Only Live Twice                     0     0     1       0       0      0  \n",
      "\n",
      "[22486 rows x 20 columns]\n"
     ]
    }
   ],
   "source": [
    "# # # # # #------------dataframe貯存---------------------\n",
    "count_feature = pd.DataFrame(x_train.toarray(), columns=feature, index=name)\n",
    "print('dataframe:',count_feature)\n",
    "count_feature.to_csv(r'./mix_pos_feature_matrix_0824.csv', encoding='utf-8-sig')\n",
    "# # # # # ---------------------------------------------------------------"
   ]
  },
  {
   "cell_type": "code",
   "execution_count": 10,
   "metadata": {},
   "outputs": [
    {
     "name": "stdout",
     "output_type": "stream",
     "text": [
      "tfidf_matrix:                                balanced    bitter  bittersweet  classic  \\\n",
      "Bobby Burns (Difford's own)         0.0  0.000000          0.0      0.0   \n",
      "Garibaldi                           0.0  0.000000          0.0      0.0   \n",
      "The Broady                          0.0  0.000000          0.0      0.0   \n",
      "Hesitation                          0.0  0.000000          0.0      0.0   \n",
      "Japanese Slipper                    0.0  0.000000          0.0      0.0   \n",
      "...                                 ...       ...          ...      ...   \n",
      "Yesterday, Today and Amaro          0.0  0.000000          0.0      0.0   \n",
      "Youngstown Tube                     0.0  0.000000          0.0      0.0   \n",
      "You Have A Drink Named Steve?       0.0  0.000000          0.0      0.0   \n",
      "Your Second Cousin                  0.0  0.000000          0.0      0.0   \n",
      "You Only Live Twice                 0.0  0.558254          0.0      0.0   \n",
      "\n",
      "                               delicious  different  fresh  fruity  herbal  \\\n",
      "Bobby Burns (Difford's own)          0.0        0.0    0.0     0.0     0.0   \n",
      "Garibaldi                            0.0        0.0    0.0     0.0     0.0   \n",
      "The Broady                           1.0        0.0    0.0     0.0     0.0   \n",
      "Hesitation                           0.0        0.0    0.0     0.0     0.0   \n",
      "Japanese Slipper                     0.0        0.0    0.0     0.0     0.0   \n",
      "...                                  ...        ...    ...     ...     ...   \n",
      "Yesterday, Today and Amaro           0.0        0.0    0.0     0.0     0.0   \n",
      "Youngstown Tube                      0.0        0.0    0.0     0.0     0.0   \n",
      "You Have A Drink Named Steve?        0.0        0.0    0.0     0.0     0.0   \n",
      "Your Second Cousin                   0.0        0.0    0.0     0.0     0.0   \n",
      "You Only Live Twice                  0.0        0.0    0.0     0.0     0.0   \n",
      "\n",
      "                               interesting  light      old  orange  original  \\\n",
      "Bobby Burns (Difford's own)            0.0    0.0  0.00000     0.0       0.0   \n",
      "Garibaldi                              0.0    0.0  0.00000     1.0       0.0   \n",
      "The Broady                             0.0    0.0  0.00000     0.0       0.0   \n",
      "Hesitation                             0.0    0.0  0.00000     0.0       0.0   \n",
      "Japanese Slipper                       0.0    0.0  0.00000     0.0       0.0   \n",
      "...                                    ...    ...      ...     ...       ...   \n",
      "Yesterday, Today and Amaro             0.0    0.0  0.00000     0.0       1.0   \n",
      "Youngstown Tube                        0.0    0.0  0.00000     0.0       0.0   \n",
      "You Have A Drink Named Steve?          0.0    0.0  0.00000     0.0       0.0   \n",
      "Your Second Cousin                     0.0    0.0  0.00000     0.0       0.0   \n",
      "You Only Live Twice                    0.0    0.0  0.58751     0.0       0.0   \n",
      "\n",
      "                               refreshing  rich      sour  strong  subtle  \\\n",
      "Bobby Burns (Difford's own)           0.0   0.0  0.000000     0.0     0.0   \n",
      "Garibaldi                             0.0   0.0  0.000000     0.0     0.0   \n",
      "The Broady                            0.0   0.0  0.000000     0.0     0.0   \n",
      "Hesitation                            0.0   0.0  0.556055     0.0     0.0   \n",
      "Japanese Slipper                      0.0   0.0  0.000000     0.0     0.0   \n",
      "...                                   ...   ...       ...     ...     ...   \n",
      "Yesterday, Today and Amaro            0.0   0.0  0.000000     0.0     0.0   \n",
      "Youngstown Tube                       0.0   0.0  0.000000     0.0     0.0   \n",
      "You Have A Drink Named Steve?         0.0   0.0  0.000000     0.0     0.0   \n",
      "Your Second Cousin                    0.0   0.0  0.000000     0.0     0.0   \n",
      "You Only Live Twice                   0.0   0.0  0.585819     0.0     0.0   \n",
      "\n",
      "                                  sweet  \n",
      "Bobby Burns (Difford's own)    0.000000  \n",
      "Garibaldi                      0.000000  \n",
      "The Broady                     0.000000  \n",
      "Hesitation                     0.831145  \n",
      "Japanese Slipper               0.000000  \n",
      "...                                 ...  \n",
      "Yesterday, Today and Amaro     0.000000  \n",
      "Youngstown Tube                0.000000  \n",
      "You Have A Drink Named Steve?  0.000000  \n",
      "Your Second Cousin             0.000000  \n",
      "You Only Live Twice            0.000000  \n",
      "\n",
      "[22486 rows x 20 columns]\n"
     ]
    }
   ],
   "source": [
    "# # # #計算tfidf權重--------------------------------------\n",
    "transformer = TfidfTransformer()\n",
    "tfidf_matrix = transformer.fit_transform(x_train)\n",
    "weight = tfidf_matrix.toarray()\n",
    "# # # #------------dataframe貯存---------------------\n",
    "tfidf = pd.DataFrame(tfidf_matrix.toarray(),columns=feature,index=name)\n",
    "print('tfidf_matrix:',tfidf)\n",
    "\n",
    "tfidf.to_csv(r'./tfidfmatrix.csv', encoding='utf-8-sig')"
   ]
  },
  {
   "cell_type": "code",
   "execution_count": 11,
   "metadata": {},
   "outputs": [
    {
     "name": "stdout",
     "output_type": "stream",
     "text": [
      "[[-0.08664193 -0.11511726 -0.08810518 ... -0.08998773 -0.0879243\n",
      "  -0.20574279]\n",
      " [-0.08664193 -0.11511726 -0.08810518 ... -0.08998773 -0.0879243\n",
      "  -0.20574279]\n",
      " [-0.08664193 -0.11511726 -0.08810518 ... -0.08998773 -0.0879243\n",
      "  -0.20574279]\n",
      " ...\n",
      " [-0.08664193 -0.11511726 -0.08810518 ... -0.08998773 -0.0879243\n",
      "  -0.20574279]\n",
      " [-0.08664193 -0.11511726 -0.08810518 ... -0.08998773 -0.0879243\n",
      "  -0.20574279]\n",
      " [-0.08664193  6.05855498 -0.08810518 ... -0.08998773 -0.0879243\n",
      "  -0.20574279]]\n"
     ]
    }
   ],
   "source": [
    "# 数据标准化-------------------------------------------------\n",
    "from sklearn import preprocessing\n",
    "\n",
    "'''\n",
    "preprocessing.scale()是按照列进行标准化计算，计算公式为:\n",
    "(X_train[:,0]-X_train[:,0].mean())/X_train[:,0].std()\n",
    "(X_train[:,0]-np.mean(X_train[:,0]))/np.std(X_train[:,0])//或者\n",
    "'''\n",
    "X_scaled = preprocessing.scale(weight)  # scale操作之后的数据零均值，单位方差（方差为1）\n",
    "print(X_scaled)"
   ]
  },
  {
   "cell_type": "code",
   "execution_count": 12,
   "metadata": {},
   "outputs": [
    {
     "name": "stdout",
     "output_type": "stream",
     "text": [
      "[[-0.45529577 -0.08921958 -0.02495725]\n",
      " [ 3.08432053 -1.74371678  3.9935405 ]\n",
      " [ 2.09189578 -1.23302459  3.6181683 ]\n",
      " ...\n",
      " [-0.45529577 -0.08921958 -0.02495725]\n",
      " [-0.45529577 -0.08921958 -0.02495725]\n",
      " [ 3.91617357 -2.35646918 -2.02155807]]\n",
      "          pca_1     pca_2     pca_3\n",
      "0     -0.455296 -0.089220 -0.024957\n",
      "1      3.084321 -1.743717  3.993541\n",
      "2      2.091896 -1.233025  3.618168\n",
      "3      3.036441  0.209366 -1.932182\n",
      "4     -0.455296 -0.089220 -0.024957\n",
      "...         ...       ...       ...\n",
      "22481  2.143277 -1.998604 -1.193700\n",
      "22482 -0.455296 -0.089220 -0.024957\n",
      "22483 -0.455296 -0.089220 -0.024957\n",
      "22484 -0.455296 -0.089220 -0.024957\n",
      "22485  3.916174 -2.356469 -2.021558\n",
      "\n",
      "[22486 rows x 3 columns]\n"
     ]
    }
   ],
   "source": [
    "# # # # #-------------------------------------------------------------------------------------------------------\n",
    "# # 进行PCA数据降维\n",
    "from sklearn.decomposition import PCA\n",
    "#\n",
    "# # 生成PCA实例\n",
    "pca = PCA(n_components=3)  # 把维度降至3维\n",
    "# # 进行PCA降维\n",
    "X_pca = pca.fit_transform(X_scaled)\n",
    "print(X_pca)\n",
    "# # 生成降维后的dataframe\n",
    "X_pca_frame = pd.DataFrame(X_pca, columns=['pca_1', 'pca_2', 'pca_3'])  # 原始数据由(30000, 7)降维至(30000, 3)\n",
    "print(X_pca_frame)"
   ]
  },
  {
   "cell_type": "code",
   "execution_count": 13,
   "metadata": {},
   "outputs": [
    {
     "name": "stdout",
     "output_type": "stream",
     "text": [
      "[[ 3.92845955 -2.10157026 -0.7050167 ]\n",
      " [-0.44964412 -0.10639637 -0.02314277]\n",
      " [ 1.52667175  3.95594441  4.30803119]\n",
      " [ 2.48880832  4.64905369 -3.35396279]\n",
      " [ 2.5256374  -0.94842164  3.04344265]\n",
      " [ 2.00230381 -0.28818544 -1.44144809]\n",
      " [ 1.01689413  2.43999269 -0.32422439]]\n",
      "inertia: 11624.112913921237\n"
     ]
    }
   ],
   "source": [
    "# # # # # #--------------------kmeans--------------------------------------------\n",
    "from sklearn.cluster import KMeans\n",
    "import matplotlib.pyplot as plt\n",
    "import numpy as np\n",
    "# # #\n",
    "from sklearn.manifold import TSNE\n",
    "# # 指定分成5个类\n",
    "clf = KMeans(n_clusters=7)\n",
    "kmean = clf.fit(X_pca)#開始訓練！\n",
    "print(kmean.cluster_centers_)\n",
    "# # 打印出各个族的中心点\n",
    "# for index ,label in enumerate(kmean.labels_,1):\n",
    "#     print('index:{},label:{}'.format(index,label))\n",
    "# # 样本距其最近的聚类中心的平方距离之和，用来评判分类的准确度，值越小越好\n",
    "# # k-means的超参数n_clusters可以通过该值来评估\n",
    "print(\"inertia: {}\".format(kmean.inertia_))"
   ]
  },
  {
   "cell_type": "code",
   "execution_count": 14,
   "metadata": {},
   "outputs": [
    {
     "name": "stdout",
     "output_type": "stream",
     "text": [
      "Org data dimension is 20.Embedded data dimension is 2\n"
     ]
    },
    {
     "data": {
      "image/png": "[encoded data removed]",
      "text/plain": [
       "<Figure size 720x720 with 1 Axes>"
      ]
     },
     "metadata": {},
     "output_type": "display_data"
    }
   ],
   "source": [
    "# # # 使用T-SNE算法，对权重进行降维，准确度比PCA算法高，但是耗时长\n",
    "tsne = TSNE(n_components=2,init='pca', random_state=501) #嵌入空间的维度\n",
    "decomposition_data = tsne.fit_transform(weight)\n",
    "print(\"Org data dimension is {}.Embedded data dimension is {}\".format(weight.shape[-1], decomposition_data.shape[-1]))\n",
    "#\n",
    "x = []\n",
    "y = []\n",
    "# #\n",
    "for i in decomposition_data:\n",
    "    x.append(i[0])\n",
    "    y.append(i[1])\n",
    "#\n",
    "fig = plt.figure(figsize=(10, 10))\n",
    "ax = plt.axes()\n",
    "plt.scatter(x, y, c=kmean.labels_, marker=\"x\")\n",
    "plt.xticks(())\n",
    "plt.yticks(())\n",
    "plt.show()\n"
   ]
  },
  {
   "cell_type": "code",
   "execution_count": 15,
   "metadata": {},
   "outputs": [
    {
     "name": "stderr",
     "output_type": "stream",
     "text": [
      "c:\\users\\big data\\anaconda3\\envs\\heart\\lib\\site-packages\\sklearn\\feature_extraction\\text.py:386: UserWarning: Your stop_words may be inconsistent with your preprocessing. Tokenizing the stop words generated tokens ['ll', 've'] not in stop_words.\n",
      "  'stop_words.' % sorted(inconsistent))\n"
     ]
    },
    {
     "name": "stdout",
     "output_type": "stream",
     "text": [
      "Topic #0:\n",
      "herbal green red delicate pink tart light faint bittersweet subtle\n",
      "\n",
      "Topic #1:\n",
      "orange rich triple smoky zesty second dark boozy single subtle\n",
      "\n",
      "Topic #2:\n",
      "sweet bitter sour excellent aged original different equal high spicy\n",
      "\n",
      "Topic #3:\n",
      "old original unusual french real ½ï close wrong ½s new\n",
      "\n",
      "Topic #4:\n",
      "interesting hot black creamy subtle cold small yellow right distinctive\n",
      "\n",
      "Topic #5:\n",
      "fresh bad tangy favorite popular homemade regular ill quick wet\n",
      "\n",
      "Topic #6:\n",
      "bittersweet floral similar kindred big spicy flavoursome short favourite early\n",
      "\n",
      "Topic #7:\n",
      "delicious complex fantastic reminiscent italian hazardous interesting awesome light spanish\n",
      "\n",
      "Topic #8:\n",
      "fruity balanced new honeyed golden large true lovely warm creamy\n",
      "\n",
      "Topic #9:\n",
      "classic refreshing light smooth blue tropical wonderful equal perfect tall\n",
      "\n",
      "Topic #10:\n",
      "different strong aromatic fine extra perfect alcoholic original amazing irish\n",
      "\n"
     ]
    }
   ],
   "source": [
    "# ####--------------------LDA 狄利克雷分布 找出潛在主題-------------------------------------\n",
    "from sklearn.decomposition import LatentDirichletAllocation\n",
    "vect_lda= CountVectorizer(stop_words=spacy_stopwords,max_df=0.15)\n",
    "x = vect_lda.fit_transform(pos)\n",
    "# print(x)\n",
    "n_components = 11\n",
    "lda = LatentDirichletAllocation(n_components=n_components,learning_method=\"batch\",max_iter=50,random_state=0)\n",
    "document_topics = lda.fit_transform(x)\n",
    "shape = lda.components_.shape\n",
    "\n",
    "\n",
    "# 打印每个主题下权重较高的term\n",
    "def print_top_words(model, feature_names, n_top_words):\n",
    "    for topic_idx, topic in enumerate(model.components_):\n",
    "        print( \"Topic #%d:\" % topic_idx)\n",
    "        print( \" \".join([feature_names[i]\n",
    "                         for i in topic.argsort()[:-n_top_words - 1:-1]]))\n",
    "        print()\n",
    "        #打印主题-词语分布矩阵\n",
    "        # print(model.components_)\n",
    "\n",
    "n_top_words=10\n",
    "tf_feature_names = vect_lda.get_feature_names()\n",
    "# print(tf_feature_names )\n",
    "top_word = print_top_words(lda, tf_feature_names, n_top_words)\n",
    "# print(top_word)"
   ]
  },
  {
   "cell_type": "code",
   "execution_count": null,
   "metadata": {},
   "outputs": [],
   "source": []
  },
  {
   "cell_type": "code",
   "execution_count": null,
   "metadata": {},
   "outputs": [],
   "source": []
  }
 ],
 "metadata": {
  "kernelspec": {
   "display_name": "Python 3",
   "language": "python",
   "name": "python3"
  },
  "language_info": {
   "codemirror_mode": {
    "name": "ipython",
    "version": 3
   },
   "file_extension": ".py",
   "mimetype": "text/x-python",
   "name": "python",
   "nbconvert_exporter": "python",
   "pygments_lexer": "ipython3",
   "version": "3.7.7"
  }
 },
 "nbformat": 4,
 "nbformat_minor": 4
}
